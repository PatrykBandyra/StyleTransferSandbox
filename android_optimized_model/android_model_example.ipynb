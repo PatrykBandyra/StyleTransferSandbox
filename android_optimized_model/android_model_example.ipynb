{
 "cells": [
  {
   "cell_type": "markdown",
   "source": [
    "### Based on: https://www.youtube.com/watch?v=5Lxuu16_28o"
   ],
   "metadata": {
    "collapsed": false
   }
  },
  {
   "cell_type": "markdown",
   "source": [
    "### Imports"
   ],
   "metadata": {
    "collapsed": false
   }
  },
  {
   "cell_type": "code",
   "execution_count": 1,
   "metadata": {
    "collapsed": true
   },
   "outputs": [],
   "source": [
    "import torch\n",
    "import torchvision\n",
    "from torch.utils.mobile_optimizer import optimize_for_mobile\n",
    "from collections import OrderedDict"
   ]
  },
  {
   "cell_type": "markdown",
   "source": [
    "### Model"
   ],
   "metadata": {
    "collapsed": false
   }
  },
  {
   "cell_type": "code",
   "execution_count": 2,
   "outputs": [],
   "source": [
    "class FusableModel(torch.nn.Module):\n",
    "    def __init__(self):\n",
    "        super(FusableModel, self).__init__()\n",
    "\n",
    "        self.quant = torch.quantization.QuantStub()\n",
    "\n",
    "        # Assumes n x 3 x 224 x 224 input\n",
    "        self.conv_bn_relu = torch.nn.Sequential(OrderedDict([\n",
    "            ('conv', torch.nn.Conv2d(3, 5, (3, 3), bias=False).to(dtype=torch.float)),\n",
    "            ('bn', torch.nn.BatchNorm2d(5).to(dtype=torch.float)),\n",
    "            ('relu', torch.nn.ReLU(inplace=True))\n",
    "        ]))\n",
    "        self.linear = torch.nn.Linear(5 * 222 * 222, 100)\n",
    "        self.relu = torch.nn.ReLU(inplace=True)\n",
    "\n",
    "        self.dequant = torch.quantization.DeQuantStub()\n",
    "\n",
    "    def forward(self, x):\n",
    "        x = self.quant(x)\n",
    "        x = self.conv_bn_relu(x)\n",
    "        x = x.view(-1, 5 * 222 * 222)\n",
    "        x = self.linear(x)\n",
    "        x = self.relu(x)\n",
    "        x = self.dequant(x)\n",
    "        return x"
   ],
   "metadata": {
    "collapsed": false,
    "pycharm": {
     "name": "#%%\n"
    }
   }
  },
  {
   "cell_type": "code",
   "execution_count": 3,
   "outputs": [
    {
     "name": "stdout",
     "output_type": "stream",
     "text": [
      "FusableModel(\n",
      "  (quant): QuantStub()\n",
      "  (conv_bn_relu): Sequential(\n",
      "    (conv): Conv2d(3, 5, kernel_size=(3, 3), stride=(1, 1), bias=False)\n",
      "    (bn): BatchNorm2d(5, eps=1e-05, momentum=0.1, affine=True, track_running_stats=True)\n",
      "    (relu): ReLU(inplace=True)\n",
      "  )\n",
      "  (linear): Linear(in_features=246420, out_features=100, bias=True)\n",
      "  (relu): ReLU(inplace=True)\n",
      "  (dequant): DeQuantStub()\n",
      ")\n"
     ]
    }
   ],
   "source": [
    "model = FusableModel()\n",
    "model.eval()\n",
    "print(model)"
   ],
   "metadata": {
    "collapsed": false,
    "pycharm": {
     "name": "#%%\n"
    }
   }
  },
  {
   "cell_type": "markdown",
   "source": [
    "### Fuse layers"
   ],
   "metadata": {
    "collapsed": false
   }
  },
  {
   "cell_type": "code",
   "execution_count": 4,
   "outputs": [
    {
     "name": "stdout",
     "output_type": "stream",
     "text": [
      "FusableModel(\n",
      "  (quant): QuantStub()\n",
      "  (conv_bn_relu): Sequential(\n",
      "    (conv): ConvReLU2d(\n",
      "      (0): Conv2d(3, 5, kernel_size=(3, 3), stride=(1, 1))\n",
      "      (1): ReLU(inplace=True)\n",
      "    )\n",
      "    (bn): Identity()\n",
      "    (relu): Identity()\n",
      "  )\n",
      "  (linear): LinearReLU(\n",
      "    (0): Linear(in_features=246420, out_features=100, bias=True)\n",
      "    (1): ReLU(inplace=True)\n",
      "  )\n",
      "  (relu): Identity()\n",
      "  (dequant): DeQuantStub()\n",
      ")\n"
     ]
    }
   ],
   "source": [
    "modules_to_fuse = [['conv_bn_relu.conv', 'conv_bn_relu.bn', 'conv_bn_relu.relu'], ['linear', 'relu']]\n",
    "torch.quantization.fuse_modules(model, modules_to_fuse, inplace=True)\n",
    "print(model)"
   ],
   "metadata": {
    "collapsed": false,
    "pycharm": {
     "name": "#%%\n"
    }
   }
  },
  {
   "cell_type": "markdown",
   "source": [
    "### Quantize"
   ],
   "metadata": {
    "collapsed": false
   }
  },
  {
   "cell_type": "code",
   "execution_count": 5,
   "outputs": [
    {
     "name": "stderr",
     "output_type": "stream",
     "text": [
      "C:\\Users\\patry\\PycharmProjects\\SSNE_labs\\venv\\lib\\site-packages\\torch\\quantization\\observer.py:964: UserWarning: must run observer before calling calculate_qparams.                                    Returning default scale and zero point \n",
      "  warnings.warn(\n"
     ]
    }
   ],
   "source": [
    "model.qconfig = torch.quantization.get_default_qconfig('qnnpack')\n",
    "\n",
    "torch.quantization.prepare(model, inplace=True)\n",
    "\n",
    "def calibrate(model, calibration_data):\n",
    "    # Calibration code\n",
    "    return\n",
    "\n",
    "calibrate(model, [])\n",
    "\n",
    "model = torch.quantization.convert(model, inplace=True)"
   ],
   "metadata": {
    "collapsed": false,
    "pycharm": {
     "name": "#%%\n"
    }
   }
  },
  {
   "cell_type": "markdown",
   "source": [
    "### Export to TorchScript and Optimize"
   ],
   "metadata": {
    "collapsed": false
   }
  },
  {
   "cell_type": "code",
   "execution_count": 6,
   "outputs": [],
   "source": [
    "torchscript_model = torch.jit.script(model)\n",
    "\n",
    "torchscript_model_optimized = optimize_for_mobile(torchscript_model)\n",
    "\n",
    "torch.jit.save(torchscript_model_optimized, 'model.pt')"
   ],
   "metadata": {
    "collapsed": false,
    "pycharm": {
     "name": "#%%\n"
    }
   }
  }
 ],
 "metadata": {
  "kernelspec": {
   "display_name": "Python 3",
   "language": "python",
   "name": "python3"
  },
  "language_info": {
   "codemirror_mode": {
    "name": "ipython",
    "version": 2
   },
   "file_extension": ".py",
   "mimetype": "text/x-python",
   "name": "python",
   "nbconvert_exporter": "python",
   "pygments_lexer": "ipython2",
   "version": "2.7.6"
  }
 },
 "nbformat": 4,
 "nbformat_minor": 0
}